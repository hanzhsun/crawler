{
 "cells": [
  {
   "cell_type": "code",
   "execution_count": 345,
   "metadata": {},
   "outputs": [],
   "source": [
    "import requests\n",
    "from requests.exceptions import RequestException\n",
    "from lxml import etree\n",
    "import threading\n",
    "import random\n",
    "import json\n",
    "from time import sleep\n",
    "from time import strftime\n",
    "from csv import DictWriter"
   ]
  },
  {
   "cell_type": "code",
   "execution_count": 176,
   "metadata": {},
   "outputs": [],
   "source": [
    "dpath = './eu/'\n",
    "pl = []\n",
    "p = []"
   ]
  },
  {
   "cell_type": "code",
   "execution_count": 38,
   "metadata": {},
   "outputs": [],
   "source": [
    "headers = {\n",
    "\t'X-Requested-With':'XMLHttpRequest'\n",
    "}"
   ]
  },
  {
   "cell_type": "code",
   "execution_count": 78,
   "metadata": {},
   "outputs": [
    {
     "name": "stdout",
     "output_type": "stream",
     "text": [
      "0\n",
      "10\n",
      "20\n",
      "30\n",
      "40\n",
      "50\n",
      "60\n",
      "70\n",
      "80\n",
      "90\n",
      "100\n",
      "110\n",
      "120\n",
      "130\n",
      "140\n",
      "150\n",
      "160\n",
      "170\n",
      "180\n",
      "190\n",
      "200\n",
      "210\n",
      "220\n",
      "230\n",
      "240\n",
      "250\n",
      "260\n",
      "270\n",
      "280\n",
      "290\n",
      "300\n",
      "310\n",
      "320\n",
      "330\n",
      "340\n"
     ]
    }
   ],
   "source": [
    "s = 0\n",
    "l = 10\n",
    "while l == 10:\n",
    "    print(s)\n",
    "    url = f\"https://drop.euphresco.net/search?from={s}\"\n",
    "    try:\n",
    "        r = requests.get(url, headers=headers)\n",
    "        if r.status_code == 200:\n",
    "            tmp = r.json()['data']\n",
    "            pl.extend(tmp)\n",
    "            l = len(tmp)\n",
    "            s += 10\n",
    "    except RequestException as err:\n",
    "        print(err)\n",
    "        print(\"Fail\")\n",
    "\n",
    "# 43.6s for 34 times"
   ]
  },
  {
   "cell_type": "code",
   "execution_count": 79,
   "metadata": {},
   "outputs": [
    {
     "data": {
      "text/plain": [
       "347"
      ]
     },
     "execution_count": 79,
     "metadata": {},
     "output_type": "execute_result"
    }
   ],
   "source": [
    "len(pl)"
   ]
  },
  {
   "cell_type": "code",
   "execution_count": 81,
   "metadata": {},
   "outputs": [],
   "source": [
    "with open(dpath+'pl.json', 'w') as out:\n",
    "    json.dump(pl, out)\n",
    "out.close()"
   ]
  },
  {
   "cell_type": "code",
   "execution_count": 327,
   "metadata": {},
   "outputs": [],
   "source": [
    "def check(tmp):\n",
    "    if len(tmp) == 0:\n",
    "        return ''\n",
    "    else:\n",
    "        return tmp[0]"
   ]
  },
  {
   "cell_type": "code",
   "execution_count": 334,
   "metadata": {},
   "outputs": [],
   "source": [
    "def checkStrip(tmp):\n",
    "    if len(tmp) == 0:\n",
    "        return ''\n",
    "    else:\n",
    "        return tmp[0].xpath('string(.)').strip()"
   ]
  },
  {
   "cell_type": "code",
   "execution_count": 336,
   "metadata": {},
   "outputs": [],
   "source": [
    "def getP(id):\n",
    "    sleep(random.randint(1,5))\n",
    "    url = f\"https://drop.euphresco.net/data/{id}\"\n",
    "    try:\n",
    "        r = requests.get(url, headers=headers)\n",
    "        if r.status_code == 200:\n",
    "            html = etree.HTML(r.content)\n",
    "            g = html.xpath('//div[@class=\"widget addinfos\"]//li/text()')\n",
    "            p.append({\n",
    "                'Title': html.xpath('//h2/text()')[0],\n",
    "                'Type': html.xpath('//div[@class=\"col-md-4\"]')[0].xpath('string(.)').strip(),\n",
    "                'DOI': check(html.xpath('//small[count(@*)=0]/a/text()')),\n",
    "                'Link': html.xpath('//td/a/@href')[0],\n",
    "                'Authors': (\"; \").join(html.xpath('//div[@class=\"margin10\"]/p/a/text()')),\n",
    "                'Description': checkStrip(html.xpath('//div[@class=\"margin10\"]/div[@class=\"marginleft30\"]')),\n",
    "                'License': checkStrip(html.xpath('//a[@target=\"new\"]/parent::div[@class=\"marginleft30\"]')),\n",
    "                'Funding': check(html.xpath('//span[contains(text(),\"Funding\")]/ancestor::div[@class=\"margin10 funding\"]/div[@class=\"marginleft30\"]/text()')),\n",
    "                'Organisms': (\",\").join(html.xpath('//ul[@class=\"marginleft30\"]/li/text()')),\n",
    "                'Visible for': g[0].strip(),\n",
    "                'Publication': g[1].strip(),\n",
    "                'Last Update': g[2].strip(),\n",
    "                'Published by': html.xpath('//div[@class=\"widget addinfos\"]//li/a/text()')[0],\n",
    "                'Categories': (\", \").join(html.xpath('//div[@class=\"widget categories\"]/a/text()')),\n",
    "                'Tags': (\", \").join(html.xpath('//div[@class=\"widget\"]/a/text()'))\n",
    "            })\n",
    "    except RequestException as err:\n",
    "        print(err)\n",
    "        print(\"Fail\")"
   ]
  },
  {
   "cell_type": "code",
   "execution_count": 193,
   "metadata": {},
   "outputs": [
    {
     "data": {
      "text/plain": [
       "345"
      ]
     },
     "execution_count": 193,
     "metadata": {},
     "output_type": "execute_result"
    }
   ],
   "source": [
    "len(p)"
   ]
  },
  {
   "cell_type": "code",
   "execution_count": 354,
   "metadata": {},
   "outputs": [
    {
     "data": {
      "text/plain": [
       "347"
      ]
     },
     "execution_count": 354,
     "metadata": {},
     "output_type": "execute_result"
    }
   ],
   "source": [
    "with open(dpath+'p.json', 'r') as f:\n",
    "    pl = json.load(f)\n",
    "len(pl)"
   ]
  },
  {
   "cell_type": "code",
   "execution_count": 353,
   "metadata": {},
   "outputs": [],
   "source": [
    "def threadP():\n",
    "\twith open(dpath+'pl.json', 'r') as f:\n",
    "\t\tpl = json.load(f)\n",
    "\tthreads = []\n",
    "\tfor i in pl:\n",
    "\t\tt = threading.Thread(target=getP, args=(i['iddata'],))\n",
    "\t\tthreads.append(t)\n",
    "\tfor task in threads:\n",
    "\t\ttask.start()\n",
    "\tfor task in threads:\n",
    "\t\ttask.join()\n",
    "\twith open(dpath+'p.json', 'w') as out:\n",
    "\t\tjson.dump(p, out)\n",
    "\tout.close()"
   ]
  },
  {
   "cell_type": "code",
   "execution_count": 338,
   "metadata": {},
   "outputs": [],
   "source": [
    "p = []\n",
    "threadP()"
   ]
  },
  {
   "cell_type": "code",
   "execution_count": 355,
   "metadata": {},
   "outputs": [],
   "source": [
    "def genCSV():\n",
    "\twith open(dpath+'p.json', 'r') as f:\n",
    "\t\tpdata = json.load(f)\n",
    "\tf.close()\n",
    "\twith open(dpath+'eu'+strftime(\"%Y%m%d-%H%M%S\")+'.csv', 'w+', newline='',encoding=\"utf-8-sig\") as out:\n",
    "\t\twriter = DictWriter(out, fieldnames=pdata[0].keys())\n",
    "\t\twriter.writeheader()\n",
    "\t\twriter.writerows(pdata)"
   ]
  },
  {
   "cell_type": "code",
   "execution_count": 351,
   "metadata": {},
   "outputs": [],
   "source": [
    "genCSV()"
   ]
  },
  {
   "cell_type": "code",
   "execution_count": 337,
   "metadata": {},
   "outputs": [],
   "source": [
    "html = getP('ee05f66a-e099-4f8b-b7dd-ea535426f037')"
   ]
  },
  {
   "cell_type": "code",
   "execution_count": 282,
   "metadata": {},
   "outputs": [
    {
     "data": {
      "text/plain": [
       "'An International Plant Sentinel Network as an early-warning system; research on future pest threats (IPSN II)'"
      ]
     },
     "execution_count": 282,
     "metadata": {},
     "output_type": "execute_result"
    }
   ],
   "source": [
    "html.xpath('//h2/text()')[0]\n",
    "#title"
   ]
  },
  {
   "cell_type": "code",
   "execution_count": 283,
   "metadata": {},
   "outputs": [
    {
     "data": {
      "text/plain": [
       "'Text'"
      ]
     },
     "execution_count": 283,
     "metadata": {},
     "output_type": "execute_result"
    }
   ],
   "source": [
    "html.xpath('//div[@class=\"col-md-4\"]')[0].xpath('string(.)').strip()\n",
    "# type"
   ]
  },
  {
   "cell_type": "code",
   "execution_count": 288,
   "metadata": {},
   "outputs": [
    {
     "data": {
      "text/plain": [
       "[<Element small at 0x1981b19e500>]"
      ]
     },
     "execution_count": 288,
     "metadata": {},
     "output_type": "execute_result"
    }
   ],
   "source": [
    "html.xpath('//small[not(@*)]')"
   ]
  },
  {
   "cell_type": "code",
   "execution_count": 293,
   "metadata": {},
   "outputs": [
    {
     "data": {
      "text/plain": [
       "'10.5281/zenodo.3908116'"
      ]
     },
     "execution_count": 293,
     "metadata": {},
     "output_type": "execute_result"
    }
   ],
   "source": [
    "html.xpath('//small[count(@*)=0]/a/text()')[0]\n",
    "# doi"
   ]
  },
  {
   "cell_type": "code",
   "execution_count": 296,
   "metadata": {},
   "outputs": [
    {
     "data": {
      "text/plain": [
       "'https://drop.euphresco.net/getfile/6a703d59-a106-4945-b8f1-f0d501b57dbc'"
      ]
     },
     "execution_count": 296,
     "metadata": {},
     "output_type": "execute_result"
    }
   ],
   "source": [
    "html.xpath('//td/a/@href')[0]\n",
    "# link"
   ]
  },
  {
   "cell_type": "code",
   "execution_count": 245,
   "metadata": {},
   "outputs": [
    {
     "data": {
      "text/plain": [
       "'Ravnikar, Maja; Kutnjak Denis; Giovani, Baldissera; Fox, Adrian; Botermans, Marleen; Oplaat, Carla; Mollov, Dimitre'"
      ]
     },
     "execution_count": 245,
     "metadata": {},
     "output_type": "execute_result"
    }
   ],
   "source": [
    "(\"; \").join(html.xpath('//div[@class=\"margin10\"]/p/a/text()'))\n",
    "# author"
   ]
  },
  {
   "cell_type": "code",
   "execution_count": 301,
   "metadata": {},
   "outputs": [
    {
     "data": {
      "text/plain": [
       "[<Element div at 0x19828bedd00>]"
      ]
     },
     "execution_count": 301,
     "metadata": {},
     "output_type": "execute_result"
    }
   ],
   "source": [
    "html.xpath('//div[@class=\"margin10\"]/div[@class=\"marginleft30\"]')"
   ]
  },
  {
   "cell_type": "code",
   "execution_count": 303,
   "metadata": {},
   "outputs": [
    {
     "data": {
      "text/plain": [
       "'The overall goal of the project ‘An International Plant Sentinel Network as an early-warning system; research on future pest threats (IPSN II)’ was to develop early warning systems for regulated and emerging plant pests and to provide information that can help prevent their introduction and mitigate their impact.The project focused on three main objectives:Enhancing early detection of regulated and emerging pestsSupporting of Pest Risk AnalysisEstablishing a self-sustainable network of botanic gardens and arboreta to implement the above objectives after the end of IPSN II.Botanic Gardens Conservation International (BGCI) coordinated the IPSN II project with funding from Department for Environment, Food and Rural Affairs (Defra) and scientific expertise from Fera Science Ltd. The Euphresco partners included experts from 16 institutions in Europe, Australasia and America representing botanic gardens and arboreta, universities, research institutes and National Plant Protection Organisations (NPPO’s).The IPSN was promoted by partners at national, regional and global events to botanic gardens and plant health professionals. The network was utilised to address knowledge gaps for a variety of regulated and emerging pests and diseases through a variety of surveys by NPPOs, Regional Plant Protection Organisations (RPPO’s) and Euphresco members. Two national sentinel networks were created during the project in Australia and Belgium and the potential for developing additional national networks was scoped during the project.Capacity building in botanic gardens and arboreta to support surveillance was a major activity of the project with partners carrying out workshops and training courses related to sentinel research and plant health to encourage monitoring for unknown threats, as well as known.The IPSN will continue to be co-ordinated by BGCI and funded by Defra.'"
      ]
     },
     "execution_count": 303,
     "metadata": {},
     "output_type": "execute_result"
    }
   ],
   "source": [
    "tmp = html.xpath('//div[@class=\"margin10\"]/div[@class=\"marginleft30\"]')[0]\n",
    "tmp.xpath('string(.)').strip()\n",
    "# description"
   ]
  },
  {
   "cell_type": "code",
   "execution_count": 304,
   "metadata": {},
   "outputs": [
    {
     "data": {
      "text/plain": [
       "[<Element div at 0x1981b546000>]"
      ]
     },
     "execution_count": 304,
     "metadata": {},
     "output_type": "execute_result"
    }
   ],
   "source": [
    "html.xpath('//a[@target=\"new\"]/parent::div[@class=\"marginleft30\"]')"
   ]
  },
  {
   "cell_type": "code",
   "execution_count": 305,
   "metadata": {},
   "outputs": [
    {
     "data": {
      "text/plain": [
       "'CC BY 4.0 - https://creativecommons.org/licenses/by/4.0/'"
      ]
     },
     "execution_count": 305,
     "metadata": {},
     "output_type": "execute_result"
    }
   ],
   "source": [
    "tmp = html.xpath('//a[@target=\"new\"]/parent::div[@class=\"marginleft30\"]')[0]\n",
    "tmp.xpath('string(.)').strip()\n",
    "# license"
   ]
  },
  {
   "cell_type": "code",
   "execution_count": 309,
   "metadata": {},
   "outputs": [
    {
     "data": {
      "text/plain": [
       "['CC BY 4.0 - ', 'Euphresco']"
      ]
     },
     "execution_count": 309,
     "metadata": {},
     "output_type": "execute_result"
    }
   ],
   "source": [
    "html.xpath('//span/text()')"
   ]
  },
  {
   "cell_type": "code",
   "execution_count": 320,
   "metadata": {},
   "outputs": [
    {
     "data": {
      "text/plain": [
       "['Euphresco']"
      ]
     },
     "execution_count": 320,
     "metadata": {},
     "output_type": "execute_result"
    }
   ],
   "source": [
    "html.xpath('//span[contains(text(),\"Funding\")]/ancestor::div[@class=\"margin10 funding\"]/div[@class=\"marginleft30\"]/text()')"
   ]
  },
  {
   "cell_type": "code",
   "execution_count": 306,
   "metadata": {},
   "outputs": [
    {
     "data": {
      "text/plain": [
       "'Euphresco'"
      ]
     },
     "execution_count": 306,
     "metadata": {},
     "output_type": "execute_result"
    }
   ],
   "source": [
    "html.xpath('//span[contains(text(),\"Funding\")]/ancestor::div[@class=\"margin10 funding\"]/div[@class=\"marginleft30\"]/text()')[0]\n",
    "# funding"
   ]
  },
  {
   "cell_type": "code",
   "execution_count": 192,
   "metadata": {},
   "outputs": [
    {
     "data": {
      "text/plain": [
       "\"'Candidatus Phytoplasma fragariae', Xanthomonas fragariae\""
      ]
     },
     "execution_count": 192,
     "metadata": {},
     "output_type": "execute_result"
    }
   ],
   "source": [
    "(\", \").join([i.strip() for i in html.xpath('//ul[@class=\"marginleft30\"]/li/text()')])"
   ]
  },
  {
   "cell_type": "code",
   "execution_count": 189,
   "metadata": {},
   "outputs": [
    {
     "data": {
      "text/plain": [
       "\" 'Candidatus Phytoplasma fragariae' , Xanthomonas fragariae \""
      ]
     },
     "execution_count": 189,
     "metadata": {},
     "output_type": "execute_result"
    }
   ],
   "source": [
    "(\",\").join(html.xpath('//ul[@class=\"marginleft30\"]/li/text()'))\n",
    "# organisms"
   ]
  },
  {
   "cell_type": "code",
   "execution_count": 166,
   "metadata": {},
   "outputs": [
    {
     "data": {
      "text/plain": [
       "''"
      ]
     },
     "execution_count": 166,
     "metadata": {},
     "output_type": "execute_result"
    }
   ],
   "source": [
    "html.xpath('//div[@class=\"widget addinfos\"]//li/text()')[3].strip()"
   ]
  },
  {
   "cell_type": "code",
   "execution_count": 135,
   "metadata": {},
   "outputs": [
    {
     "data": {
      "text/plain": [
       "[' Public', ' 2020-06-25 00:00:00', ' 2023-01-01 20:02:36', ' ']"
      ]
     },
     "execution_count": 135,
     "metadata": {},
     "output_type": "execute_result"
    }
   ],
   "source": [
    "html.xpath('//div[@class=\"widget addinfos\"]//li/text()')\n",
    "# publication date\n",
    "# Last update"
   ]
  },
  {
   "cell_type": "code",
   "execution_count": 167,
   "metadata": {},
   "outputs": [
    {
     "data": {
      "text/plain": [
       "'EUPHRESCO Secretariat'"
      ]
     },
     "execution_count": 167,
     "metadata": {},
     "output_type": "execute_result"
    }
   ],
   "source": [
    "html.xpath('//div[@class=\"widget addinfos\"]//li/a/text()')[0]\n",
    "# published by"
   ]
  },
  {
   "cell_type": "code",
   "execution_count": 170,
   "metadata": {},
   "outputs": [
    {
     "data": {
      "text/plain": [
       "'Monitoring, Pest diagnostics, Surveillance'"
      ]
     },
     "execution_count": 170,
     "metadata": {},
     "output_type": "execute_result"
    }
   ],
   "source": [
    "(\", \").join(html.xpath('//div[@class=\"widget categories\"]/a/text()'))\n",
    "# categories"
   ]
  },
  {
   "cell_type": "code",
   "execution_count": 171,
   "metadata": {},
   "outputs": [
    {
     "data": {
      "text/plain": [
       "'distribution, Euphresco project ID card, mapping, pcr, real-time pcr'"
      ]
     },
     "execution_count": 171,
     "metadata": {},
     "output_type": "execute_result"
    }
   ],
   "source": [
    "(\", \").join(html.xpath('//div[@class=\"widget\"]/a/text()'))\n",
    "# tags"
   ]
  }
 ],
 "metadata": {
  "kernelspec": {
   "display_name": "Python 3.11.1 64-bit",
   "language": "python",
   "name": "python3"
  },
  "language_info": {
   "codemirror_mode": {
    "name": "ipython",
    "version": 3
   },
   "file_extension": ".py",
   "mimetype": "text/x-python",
   "name": "python",
   "nbconvert_exporter": "python",
   "pygments_lexer": "ipython3",
   "version": "3.11.1"
  },
  "orig_nbformat": 4,
  "vscode": {
   "interpreter": {
    "hash": "5238573367df39f7286bb46f9ff5f08f63a01a80960060ce41e3c79b190280fa"
   }
  }
 },
 "nbformat": 4,
 "nbformat_minor": 2
}
